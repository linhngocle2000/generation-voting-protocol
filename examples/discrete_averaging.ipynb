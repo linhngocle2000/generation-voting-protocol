{
 "cells": [
  {
   "cell_type": "code",
   "execution_count": 3,
   "id": "850bc785",
   "metadata": {},
   "outputs": [
    {
     "name": "stdout",
     "output_type": "stream",
     "text": [
      "{0: 500000, 50: 500000}\n",
      "[500000      0      0      0      0      0      0      0      0      0\n",
      "      0      0      0      0      0      0      0      0      0      0\n",
      "      0      0      0      0      0      0      0      0      0      0\n",
      "      0      0      0      0      0      0      0      0      0      0\n",
      "      0      0      0      0      0      0      0      0      0      0\n",
      " 500000]\n"
     ]
    },
    {
     "name": "stderr",
     "output_type": "stream",
     "text": [
      "                                                   \r"
     ]
    },
    {
     "data": {
      "text/plain": "interactive(children=(IntSlider(value=0, description='row', layout=Layout(width='100%'), max=148), Output()), …",
      "application/vnd.jupyter.widget-view+json": {
       "version_major": 2,
       "version_minor": 0,
       "model_id": "c2cc8ccefcc0429980db758c4d90c140"
      }
     },
     "metadata": {},
     "output_type": "display_data"
    }
   ],
   "source": [
    "%matplotlib widget\n",
    "from math import ceil, floor\n",
    "import matplotlib\n",
    "matplotlib.use(\"TkAgg\")\n",
    "import matplotlib.pyplot as plt\n",
    "from ipywidgets.widgets import widget\n",
    "from ppsim import Simulation\n",
    "import ipywidgets as widgets\n",
    "\n",
    "\n",
    "\n",
    "\n",
    "def discrete_averaging(a, b):\n",
    "    avg = (a + b) / 2\n",
    "    # floor(2.4) = 2\n",
    "    # ceil(2.4) = 3\n",
    "    return floor(avg), ceil(avg)\n",
    "\n",
    "\n",
    "def three_consecutive_values(config):\n",
    "    # get all states at current step\n",
    "    states = config.keys()\n",
    "    # are the current states only 3 consecutive values?\n",
    "    return max(states) - min(states) <= 2\n",
    "\n",
    "\n",
    "def main():\n",
    "    n = 10 ** 6\n",
    "    # division that results into whole number adjusted to the left in the number line\n",
    "    # init config : 500.000 0's and 500.000 50's\n",
    "    sim = Simulation({0: n // 2, 50: n // 2}, discrete_averaging)\n",
    "    print(sim.config_dict)\n",
    "    print(sim.config_array)\n",
    "    sim.run(three_consecutive_values, 0.1)\n",
    "\n",
    "    # print(sim.history)\n",
    "    def plot_row(row):\n",
    "        fig, ax = plt.subplots(figsize=(12, 5))\n",
    "        sim.history.iloc[row].plot(ax=ax, kind='bar',\n",
    "                                   title=f'Discrete averaging at time {sim.history.index[row]:.2f}',\n",
    "                                   xlabel='minute',\n",
    "                                   ylim=(0, n))\n",
    "\n",
    "    bar = widgets.interact(plot_row, row=widgets.IntSlider(\n",
    "        min=0, max=len(sim.history) - 1, step=1, value=0, layout=widgets.Layout(width='100%')))\n",
    "    plt.show()\n",
    "\n",
    "\n",
    "if __name__ == '__main__':\n",
    "    main()\n"
   ]
  },
  {
   "cell_type": "code",
   "execution_count": null,
   "outputs": [],
   "source": [],
   "metadata": {
    "collapsed": false,
    "pycharm": {
     "is_executing": true
    }
   }
  },
  {
   "cell_type": "code",
   "execution_count": 2,
   "outputs": [],
   "source": [],
   "metadata": {
    "collapsed": false
   }
  }
 ],
 "metadata": {
  "kernelspec": {
   "display_name": "Python 3 (ipykernel)",
   "language": "python",
   "name": "python3"
  },
  "language_info": {
   "codemirror_mode": {
    "name": "ipython",
    "version": 3
   },
   "file_extension": ".py",
   "mimetype": "text/x-python",
   "name": "python",
   "nbconvert_exporter": "python",
   "pygments_lexer": "ipython3",
   "version": "3.9.13"
  }
 },
 "nbformat": 4,
 "nbformat_minor": 5
}
